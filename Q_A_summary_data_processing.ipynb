{
  "nbformat": 4,
  "nbformat_minor": 0,
  "metadata": {
    "colab": {
      "name": "Q-A-summary_data processing.ipynb",
      "provenance": []
    },
    "kernelspec": {
      "name": "python3",
      "display_name": "Python 3"
    },
    "language_info": {
      "name": "python"
    }
  },
  "cells": [
    {
      "cell_type": "markdown",
      "source": [
        "## 项目背景\n",
        "使用汽车大师提供的11万条技师与用户的多轮对话与诊断建议报告数据建立模型，基于对话文本、用户问题、车型与车系，输出包含摘要与推断的报告文本，考验模型的归纳总结与推断能力。"
      ],
      "metadata": {
        "id": "h5SYVcgChHil"
      }
    },
    {
      "cell_type": "markdown",
      "source": [
        "## Read Data"
      ],
      "metadata": {
        "id": "u9IIaNnihXLl"
      }
    },
    {
      "cell_type": "code",
      "source": [
        "import os\n",
        "from google.colab import drive\n",
        "drive.mount('/content/drive')\n",
        "\n",
        "path = \"/content/drive/My Drive/Q-A summary/\"\n",
        "\n",
        "os.chdir(path)\n",
        "os.listdir(path)"
      ],
      "metadata": {
        "colab": {
          "base_uri": "https://localhost:8080/"
        },
        "id": "RXqKlMQ5hWsi",
        "outputId": "8b150435-3726-4a7a-84ea-4912ff051fd5"
      },
      "execution_count": 65,
      "outputs": [
        {
          "output_type": "stream",
          "name": "stdout",
          "text": [
            "Drive already mounted at /content/drive; to attempt to forcibly remount, call drive.mount(\"/content/drive\", force_remount=True).\n"
          ]
        },
        {
          "output_type": "execute_result",
          "data": {
            "text/plain": [
              "['AutoMaster_TrainSet.csv', 'AutoMaster_TestSet.csv', 'stop']"
            ]
          },
          "metadata": {},
          "execution_count": 65
        }
      ]
    },
    {
      "cell_type": "code",
      "source": [
        "import pandas as pd\n",
        "import re\n",
        "import jieba\n",
        "import numpy as np"
      ],
      "metadata": {
        "id": "mMW43h-Kl_q6"
      },
      "execution_count": 88,
      "outputs": []
    },
    {
      "cell_type": "code",
      "execution_count": 67,
      "metadata": {
        "id": "cFEjRaX3hEuV"
      },
      "outputs": [],
      "source": [
        "# 1.数据集路径\n",
        "train_data_path = 'AutoMaster_TrainSet.csv'\n",
        "test_data_path = 'AutoMaster_TestSet.csv'\n",
        "#加载停用词（哈工大停用表）\n",
        "stop_word_path='stop/hit_stopwords.txt'\n",
        "# 2.载入数据\n",
        "def load_dataset(train_data_path, test_data_path):\n",
        "    # 读取数据集\n",
        "    train_data = pd.read_csv(train_data_path)\n",
        "    test_data = pd.read_csv(test_data_path)\n",
        "    return train_data, test_data"
      ]
    },
    {
      "cell_type": "code",
      "source": [
        "train_df,test_df= load_dataset(train_data_path, test_data_path)\n",
        "print('train data size {},test data size {}'.format(len(train_df),len(test_df)))"
      ],
      "metadata": {
        "colab": {
          "base_uri": "https://localhost:8080/"
        },
        "id": "17JQvrf2lz0x",
        "outputId": "c420f7fb-a8b4-449e-e908-be18ce87d594"
      },
      "execution_count": 68,
      "outputs": [
        {
          "output_type": "stream",
          "name": "stdout",
          "text": [
            "train data size 82943,test data size 20000\n"
          ]
        }
      ]
    },
    {
      "cell_type": "code",
      "source": [
        "train_df.head()"
      ],
      "metadata": {
        "colab": {
          "base_uri": "https://localhost:8080/",
          "height": 350
        },
        "id": "OMJHKcgFmJT4",
        "outputId": "83358559-26b5-4836-c45b-3a6f29502633"
      },
      "execution_count": 69,
      "outputs": [
        {
          "output_type": "execute_result",
          "data": {
            "text/html": [
              "\n",
              "  <div id=\"df-bc6c4543-3184-4e9a-a152-c4889fd6e0f4\">\n",
              "    <div class=\"colab-df-container\">\n",
              "      <div>\n",
              "<style scoped>\n",
              "    .dataframe tbody tr th:only-of-type {\n",
              "        vertical-align: middle;\n",
              "    }\n",
              "\n",
              "    .dataframe tbody tr th {\n",
              "        vertical-align: top;\n",
              "    }\n",
              "\n",
              "    .dataframe thead th {\n",
              "        text-align: right;\n",
              "    }\n",
              "</style>\n",
              "<table border=\"1\" class=\"dataframe\">\n",
              "  <thead>\n",
              "    <tr style=\"text-align: right;\">\n",
              "      <th></th>\n",
              "      <th>QID</th>\n",
              "      <th>Brand</th>\n",
              "      <th>Model</th>\n",
              "      <th>Question</th>\n",
              "      <th>Dialogue</th>\n",
              "      <th>Report</th>\n",
              "    </tr>\n",
              "  </thead>\n",
              "  <tbody>\n",
              "    <tr>\n",
              "      <th>0</th>\n",
              "      <td>Q1</td>\n",
              "      <td>奔驰</td>\n",
              "      <td>奔驰GL级</td>\n",
              "      <td>方向机重，助力泵，方向机都换了还是一样</td>\n",
              "      <td>技师说：[语音]|车主说：新的都换了|车主说：助力泵，方向机|技师说：[语音]|车主说：换了...</td>\n",
              "      <td>随时联系</td>\n",
              "    </tr>\n",
              "    <tr>\n",
              "      <th>1</th>\n",
              "      <td>Q2</td>\n",
              "      <td>奔驰</td>\n",
              "      <td>奔驰M级</td>\n",
              "      <td>奔驰ML500排气凸轮轴调节错误</td>\n",
              "      <td>技师说：你这个有没有电脑检测故障代码。|车主说：有|技师说：发一下|车主说：发动机之前亮故障...</td>\n",
              "      <td>随时联系</td>\n",
              "    </tr>\n",
              "    <tr>\n",
              "      <th>2</th>\n",
              "      <td>Q3</td>\n",
              "      <td>宝马</td>\n",
              "      <td>宝马X1(进口)</td>\n",
              "      <td>2010款宝马X1，2011年出厂，2.0排量，通用6L45变速箱，原地换挡位PRND车辆闯...</td>\n",
              "      <td>技师说：你好，4缸自然吸气发动机N46是吧，先挂空档再挂其他档有没有闯动呢，变速箱油液位是否...</td>\n",
              "      <td>行驶没有顿挫的感觉，原地换挡有闯动，刹车踩重没有，这是力的限制的作用，应该没有问题</td>\n",
              "    </tr>\n",
              "    <tr>\n",
              "      <th>3</th>\n",
              "      <td>Q4</td>\n",
              "      <td>Jeep</td>\n",
              "      <td>牧马人</td>\n",
              "      <td>3.0V6发动机号在什么位置，有照片最好！</td>\n",
              "      <td>技师说：右侧排气管上方，缸体上靠近变速箱|车主说：[图片]|车主说：是不是这个？|车主说：这...</td>\n",
              "      <td>举起车辆，在左前轮这边的缸体上</td>\n",
              "    </tr>\n",
              "    <tr>\n",
              "      <th>4</th>\n",
              "      <td>Q5</td>\n",
              "      <td>奔驰</td>\n",
              "      <td>奔驰C级</td>\n",
              "      <td>2012款奔驰c180怎么样，维修保养，动力，值得拥有吗</td>\n",
              "      <td>技师说：家庭用车的话，还是可以入手的|技师说：维修保养费用不高|车主说：12年的180市场价...</td>\n",
              "      <td>家庭用车可以入手的，维修保养价格还可以。车况好，价格合理可以入手</td>\n",
              "    </tr>\n",
              "  </tbody>\n",
              "</table>\n",
              "</div>\n",
              "      <button class=\"colab-df-convert\" onclick=\"convertToInteractive('df-bc6c4543-3184-4e9a-a152-c4889fd6e0f4')\"\n",
              "              title=\"Convert this dataframe to an interactive table.\"\n",
              "              style=\"display:none;\">\n",
              "        \n",
              "  <svg xmlns=\"http://www.w3.org/2000/svg\" height=\"24px\"viewBox=\"0 0 24 24\"\n",
              "       width=\"24px\">\n",
              "    <path d=\"M0 0h24v24H0V0z\" fill=\"none\"/>\n",
              "    <path d=\"M18.56 5.44l.94 2.06.94-2.06 2.06-.94-2.06-.94-.94-2.06-.94 2.06-2.06.94zm-11 1L8.5 8.5l.94-2.06 2.06-.94-2.06-.94L8.5 2.5l-.94 2.06-2.06.94zm10 10l.94 2.06.94-2.06 2.06-.94-2.06-.94-.94-2.06-.94 2.06-2.06.94z\"/><path d=\"M17.41 7.96l-1.37-1.37c-.4-.4-.92-.59-1.43-.59-.52 0-1.04.2-1.43.59L10.3 9.45l-7.72 7.72c-.78.78-.78 2.05 0 2.83L4 21.41c.39.39.9.59 1.41.59.51 0 1.02-.2 1.41-.59l7.78-7.78 2.81-2.81c.8-.78.8-2.07 0-2.86zM5.41 20L4 18.59l7.72-7.72 1.47 1.35L5.41 20z\"/>\n",
              "  </svg>\n",
              "      </button>\n",
              "      \n",
              "  <style>\n",
              "    .colab-df-container {\n",
              "      display:flex;\n",
              "      flex-wrap:wrap;\n",
              "      gap: 12px;\n",
              "    }\n",
              "\n",
              "    .colab-df-convert {\n",
              "      background-color: #E8F0FE;\n",
              "      border: none;\n",
              "      border-radius: 50%;\n",
              "      cursor: pointer;\n",
              "      display: none;\n",
              "      fill: #1967D2;\n",
              "      height: 32px;\n",
              "      padding: 0 0 0 0;\n",
              "      width: 32px;\n",
              "    }\n",
              "\n",
              "    .colab-df-convert:hover {\n",
              "      background-color: #E2EBFA;\n",
              "      box-shadow: 0px 1px 2px rgba(60, 64, 67, 0.3), 0px 1px 3px 1px rgba(60, 64, 67, 0.15);\n",
              "      fill: #174EA6;\n",
              "    }\n",
              "\n",
              "    [theme=dark] .colab-df-convert {\n",
              "      background-color: #3B4455;\n",
              "      fill: #D2E3FC;\n",
              "    }\n",
              "\n",
              "    [theme=dark] .colab-df-convert:hover {\n",
              "      background-color: #434B5C;\n",
              "      box-shadow: 0px 1px 3px 1px rgba(0, 0, 0, 0.15);\n",
              "      filter: drop-shadow(0px 1px 2px rgba(0, 0, 0, 0.3));\n",
              "      fill: #FFFFFF;\n",
              "    }\n",
              "  </style>\n",
              "\n",
              "      <script>\n",
              "        const buttonEl =\n",
              "          document.querySelector('#df-bc6c4543-3184-4e9a-a152-c4889fd6e0f4 button.colab-df-convert');\n",
              "        buttonEl.style.display =\n",
              "          google.colab.kernel.accessAllowed ? 'block' : 'none';\n",
              "\n",
              "        async function convertToInteractive(key) {\n",
              "          const element = document.querySelector('#df-bc6c4543-3184-4e9a-a152-c4889fd6e0f4');\n",
              "          const dataTable =\n",
              "            await google.colab.kernel.invokeFunction('convertToInteractive',\n",
              "                                                     [key], {});\n",
              "          if (!dataTable) return;\n",
              "\n",
              "          const docLinkHtml = 'Like what you see? Visit the ' +\n",
              "            '<a target=\"_blank\" href=https://colab.research.google.com/notebooks/data_table.ipynb>data table notebook</a>'\n",
              "            + ' to learn more about interactive tables.';\n",
              "          element.innerHTML = '';\n",
              "          dataTable['output_type'] = 'display_data';\n",
              "          await google.colab.output.renderOutput(dataTable, element);\n",
              "          const docLink = document.createElement('div');\n",
              "          docLink.innerHTML = docLinkHtml;\n",
              "          element.appendChild(docLink);\n",
              "        }\n",
              "      </script>\n",
              "    </div>\n",
              "  </div>\n",
              "  "
            ],
            "text/plain": [
              "  QID  ...                                     Report\n",
              "0  Q1  ...                                       随时联系\n",
              "1  Q2  ...                                       随时联系\n",
              "2  Q3  ...  行驶没有顿挫的感觉，原地换挡有闯动，刹车踩重没有，这是力的限制的作用，应该没有问题\n",
              "3  Q4  ...                            举起车辆，在左前轮这边的缸体上\n",
              "4  Q5  ...           家庭用车可以入手的，维修保养价格还可以。车况好，价格合理可以入手\n",
              "\n",
              "[5 rows x 6 columns]"
            ]
          },
          "metadata": {},
          "execution_count": 69
        }
      ]
    },
    {
      "cell_type": "code",
      "source": [
        "#查看数据集的情况，看是否有空值的情况\n",
        "train_df.info()"
      ],
      "metadata": {
        "colab": {
          "base_uri": "https://localhost:8080/"
        },
        "id": "_mtZt2vTmN7w",
        "outputId": "12967315-9f7b-4d29-9d6a-8916da410828"
      },
      "execution_count": 70,
      "outputs": [
        {
          "output_type": "stream",
          "name": "stdout",
          "text": [
            "<class 'pandas.core.frame.DataFrame'>\n",
            "RangeIndex: 82943 entries, 0 to 82942\n",
            "Data columns (total 6 columns):\n",
            " #   Column    Non-Null Count  Dtype \n",
            "---  ------    --------------  ----- \n",
            " 0   QID       82943 non-null  object\n",
            " 1   Brand     81642 non-null  object\n",
            " 2   Model     81642 non-null  object\n",
            " 3   Question  82943 non-null  object\n",
            " 4   Dialogue  82941 non-null  object\n",
            " 5   Report    82873 non-null  object\n",
            "dtypes: object(6)\n",
            "memory usage: 3.8+ MB\n"
          ]
        }
      ]
    },
    {
      "cell_type": "code",
      "source": [
        "#查看数据集的情况，看是否有空值的情况\n",
        "test_df.info()"
      ],
      "metadata": {
        "colab": {
          "base_uri": "https://localhost:8080/"
        },
        "id": "rEetMGX0mhBP",
        "outputId": "b90bfece-c53d-4767-86e6-6e44726eb40b"
      },
      "execution_count": 71,
      "outputs": [
        {
          "output_type": "stream",
          "name": "stdout",
          "text": [
            "<class 'pandas.core.frame.DataFrame'>\n",
            "RangeIndex: 20000 entries, 0 to 19999\n",
            "Data columns (total 5 columns):\n",
            " #   Column    Non-Null Count  Dtype \n",
            "---  ------    --------------  ----- \n",
            " 0   QID       20000 non-null  object\n",
            " 1   Brand     19987 non-null  object\n",
            " 2   Model     19987 non-null  object\n",
            " 3   Question  20000 non-null  object\n",
            " 4   Dialogue  20000 non-null  object\n",
            "dtypes: object(5)\n",
            "memory usage: 781.4+ KB\n"
          ]
        }
      ]
    },
    {
      "cell_type": "code",
      "source": [
        "train_df=train_df.dropna()\n",
        "test_df=test_df.dropna()"
      ],
      "metadata": {
        "id": "8Fr0GbUBmwhD"
      },
      "execution_count": 72,
      "outputs": []
    },
    {
      "cell_type": "code",
      "source": [
        "print(\"after dropna train data size: {}, test data size: {}\".format(len(train_df), len(test_df)))"
      ],
      "metadata": {
        "colab": {
          "base_uri": "https://localhost:8080/"
        },
        "id": "S7fXd9Cw1Aed",
        "outputId": "4934614c-c0ef-4017-d5c3-146dade77de8"
      },
      "execution_count": 73,
      "outputs": [
        {
          "output_type": "stream",
          "name": "stdout",
          "text": [
            "after dropna train data size: 81572, test data size: 19987\n"
          ]
        }
      ]
    },
    {
      "cell_type": "markdown",
      "source": [
        "## Data processing"
      ],
      "metadata": {
        "id": "QbW1oJ60m-vb"
      }
    },
    {
      "cell_type": "code",
      "source": [
        "def clean_sentence(sentence):\n",
        "    '''\n",
        "    特殊符号去除\n",
        "    :param sentence: 待处理的字符串\n",
        "    :return: 过滤特殊字符后的字符串\n",
        "    '''\n",
        "    if isinstance(sentence, str):\n",
        "        return re.sub(\n",
        "            # r'[\\s+\\-\\!\\/\\[\\]\\{\\}_,.$%^*(+\\\"\\')]+|[:：+——()?【】“”！，。？、~@#￥%……&*（）]+|车主说|技师说|语音|图片|你好|您好',\n",
        "            r'[\\s+\\-\\/\\[\\]\\{\\}_$%^*(+\\\"\\')]+|[+——()【】“”~@#￥%……&*（）]+|你好|您好',\n",
        "            ' ', sentence)\n",
        "    else:\n",
        "        return ' '"
      ],
      "metadata": {
        "id": "nMUAgFf2m1bO"
      },
      "execution_count": 74,
      "outputs": []
    },
    {
      "cell_type": "code",
      "source": [
        "def load_stop_words(stop_word_path):\n",
        "    '''\n",
        "    加载停用词\n",
        "    :param stop_word_path:停用词路径\n",
        "    :return: 停用词表 list\n",
        "    '''\n",
        "    file = open(stop_word_path, 'r', encoding='utf-8')\n",
        "    stop_words = file.readlines()\n",
        "    stop_words = [stop_word.strip() for stop_word in stop_words]\n",
        "    return stop_words\n",
        "\n",
        "stop_words=load_stop_words(stop_word_path)\n",
        "print('stop words size {}'.format(len(stop_words)))"
      ],
      "metadata": {
        "colab": {
          "base_uri": "https://localhost:8080/"
        },
        "id": "Pj_T0N7nof8D",
        "outputId": "fc8d9bca-9f36-4fae-d839-a93c4d63153a"
      },
      "execution_count": 75,
      "outputs": [
        {
          "output_type": "stream",
          "name": "stdout",
          "text": [
            "stop words size 767\n"
          ]
        }
      ]
    },
    {
      "cell_type": "code",
      "source": [
        "# 过滤停用词\n",
        "def filter_stopwords(words):\n",
        "    '''\n",
        "    过滤停用词\n",
        "    :param seg_list: 切好词的列表 [word1 ,word2 .......]\n",
        "    :return: 过滤后的停用词\n",
        "    '''\n",
        "    return [word for word in words if word not in stop_words]\n"
      ],
      "metadata": {
        "id": "kUKDofLzougB"
      },
      "execution_count": 76,
      "outputs": []
    },
    {
      "cell_type": "code",
      "source": [
        "def sentence_proc(sentence):\n",
        "    '''\n",
        "    预处理模块\n",
        "    :param sentence:待处理字符串\n",
        "    :return: 处理后的字符串\n",
        "    '''\n",
        "    # 清除无用词\n",
        "    sentence = clean_sentence(sentence)\n",
        "    # 切词，默认精确模式，全模式cut参数cut_all=True\n",
        "    words = jieba.cut(sentence)\n",
        "    # 过滤停用词\n",
        "    words = filter_stopwords(words)\n",
        "    # 拼接成一个字符串,按空格分隔\n",
        "    return ' '.join(words)"
      ],
      "metadata": {
        "id": "cIoMuvG_oz-q"
      },
      "execution_count": 77,
      "outputs": []
    },
    {
      "cell_type": "code",
      "source": [
        "def data_frame_proc(df):\n",
        "    '''\n",
        "    数据集批量处理方法\n",
        "    :param df: 数据集\n",
        "    :return:处理好的数据集\n",
        "    '''\n",
        "    # 批量预处理 训练集和测试集\n",
        "    ## Brand Model 不太有价值\n",
        "    for col_name in ['Question', 'Dialogue']:\n",
        "        df[col_name] = df[col_name].apply(sentence_proc)\n",
        "\n",
        "    if 'Report' in df.columns:\n",
        "        # 训练集 Report 预处理\n",
        "        df['Report'] = df['Report'].apply(sentence_proc)\n",
        "    return df\n",
        "#对训练集和测试集进行处理\n",
        "train_df = data_frame_proc(train_df)\n",
        "test_df = data_frame_proc(test_df)"
      ],
      "metadata": {
        "colab": {
          "base_uri": "https://localhost:8080/"
        },
        "id": "NGFmstcc4a41",
        "outputId": "9db21589-bef6-49cb-cc44-1426858fb2d6"
      },
      "execution_count": 78,
      "outputs": [
        {
          "output_type": "stream",
          "name": "stderr",
          "text": [
            "Building prefix dict from the default dictionary ...\n",
            "Dumping model to file cache /tmp/jieba.cache\n",
            "Loading model cost 1.079 seconds.\n",
            "Prefix dict has been built successfully.\n"
          ]
        }
      ]
    },
    {
      "cell_type": "code",
      "source": [
        "train_df['merged'] = train_df[['Question', 'Dialogue', 'Report']].apply(lambda x: ' '.join(x), axis=1)\n",
        "test_df['merged'] = test_df[['Question', 'Dialogue']].apply(lambda x: ' '.join(x), axis=1)\n",
        "merged_df = pd.concat([train_df[['merged']], test_df[['merged']]], axis=0)\n",
        "print('train data size {},test data size {},merged_df data size {}'.format(len(train_df),len(test_df),len(merged_df)))"
      ],
      "metadata": {
        "colab": {
          "base_uri": "https://localhost:8080/"
        },
        "id": "7zNHDlwH9cFy",
        "outputId": "496112d0-aec7-483c-a11c-47eaae9b7bf0"
      },
      "execution_count": 79,
      "outputs": [
        {
          "output_type": "stream",
          "name": "stdout",
          "text": [
            "train data size 81572,test data size 19987,merged_df data size 101559\n"
          ]
        }
      ]
    },
    {
      "cell_type": "code",
      "source": [
        "merged_df.to_csv('merged_train_test_seg_data.csv',index=None,header=False)\n",
        "merged_df.head()"
      ],
      "metadata": {
        "id": "acj-FiSJ0V2-",
        "colab": {
          "base_uri": "https://localhost:8080/",
          "height": 204
        },
        "outputId": "4f7a0105-2501-4c7d-a923-fdec2909c2fd"
      },
      "execution_count": 81,
      "outputs": [
        {
          "output_type": "execute_result",
          "data": {
            "text/html": [
              "\n",
              "  <div id=\"df-4f56def4-03a2-4fdf-b4d5-a952afde10a8\">\n",
              "    <div class=\"colab-df-container\">\n",
              "      <div>\n",
              "<style scoped>\n",
              "    .dataframe tbody tr th:only-of-type {\n",
              "        vertical-align: middle;\n",
              "    }\n",
              "\n",
              "    .dataframe tbody tr th {\n",
              "        vertical-align: top;\n",
              "    }\n",
              "\n",
              "    .dataframe thead th {\n",
              "        text-align: right;\n",
              "    }\n",
              "</style>\n",
              "<table border=\"1\" class=\"dataframe\">\n",
              "  <thead>\n",
              "    <tr style=\"text-align: right;\">\n",
              "      <th></th>\n",
              "      <th>merged</th>\n",
              "    </tr>\n",
              "  </thead>\n",
              "  <tbody>\n",
              "    <tr>\n",
              "      <th>0</th>\n",
              "      <td>方向机 重 助力 泵 方向机 都 换 技师 说   语音   | 车主 说 新 都 换 | ...</td>\n",
              "    </tr>\n",
              "    <tr>\n",
              "      <th>1</th>\n",
              "      <td>奔驰 ML500 排气 凸轮轴 调节 错误 技师 说 有没有 电脑 检测 故障 代码 | 车...</td>\n",
              "    </tr>\n",
              "    <tr>\n",
              "      <th>2</th>\n",
              "      <td>2010 款 宝马 X1 2011 年 出厂 2.0 排量 通用 6L45 变速箱 原地 换...</td>\n",
              "    </tr>\n",
              "    <tr>\n",
              "      <th>3</th>\n",
              "      <td>3.0 V6 发动机 号 位置 照片 最好 技师 说 右侧 排气管 上方 缸体 上 靠近 变...</td>\n",
              "    </tr>\n",
              "    <tr>\n",
              "      <th>4</th>\n",
              "      <td>2012 款 奔驰 c180 维修保养 动力 值得 拥有 技师 说 家庭 用车 入手 | 技...</td>\n",
              "    </tr>\n",
              "  </tbody>\n",
              "</table>\n",
              "</div>\n",
              "      <button class=\"colab-df-convert\" onclick=\"convertToInteractive('df-4f56def4-03a2-4fdf-b4d5-a952afde10a8')\"\n",
              "              title=\"Convert this dataframe to an interactive table.\"\n",
              "              style=\"display:none;\">\n",
              "        \n",
              "  <svg xmlns=\"http://www.w3.org/2000/svg\" height=\"24px\"viewBox=\"0 0 24 24\"\n",
              "       width=\"24px\">\n",
              "    <path d=\"M0 0h24v24H0V0z\" fill=\"none\"/>\n",
              "    <path d=\"M18.56 5.44l.94 2.06.94-2.06 2.06-.94-2.06-.94-.94-2.06-.94 2.06-2.06.94zm-11 1L8.5 8.5l.94-2.06 2.06-.94-2.06-.94L8.5 2.5l-.94 2.06-2.06.94zm10 10l.94 2.06.94-2.06 2.06-.94-2.06-.94-.94-2.06-.94 2.06-2.06.94z\"/><path d=\"M17.41 7.96l-1.37-1.37c-.4-.4-.92-.59-1.43-.59-.52 0-1.04.2-1.43.59L10.3 9.45l-7.72 7.72c-.78.78-.78 2.05 0 2.83L4 21.41c.39.39.9.59 1.41.59.51 0 1.02-.2 1.41-.59l7.78-7.78 2.81-2.81c.8-.78.8-2.07 0-2.86zM5.41 20L4 18.59l7.72-7.72 1.47 1.35L5.41 20z\"/>\n",
              "  </svg>\n",
              "      </button>\n",
              "      \n",
              "  <style>\n",
              "    .colab-df-container {\n",
              "      display:flex;\n",
              "      flex-wrap:wrap;\n",
              "      gap: 12px;\n",
              "    }\n",
              "\n",
              "    .colab-df-convert {\n",
              "      background-color: #E8F0FE;\n",
              "      border: none;\n",
              "      border-radius: 50%;\n",
              "      cursor: pointer;\n",
              "      display: none;\n",
              "      fill: #1967D2;\n",
              "      height: 32px;\n",
              "      padding: 0 0 0 0;\n",
              "      width: 32px;\n",
              "    }\n",
              "\n",
              "    .colab-df-convert:hover {\n",
              "      background-color: #E2EBFA;\n",
              "      box-shadow: 0px 1px 2px rgba(60, 64, 67, 0.3), 0px 1px 3px 1px rgba(60, 64, 67, 0.15);\n",
              "      fill: #174EA6;\n",
              "    }\n",
              "\n",
              "    [theme=dark] .colab-df-convert {\n",
              "      background-color: #3B4455;\n",
              "      fill: #D2E3FC;\n",
              "    }\n",
              "\n",
              "    [theme=dark] .colab-df-convert:hover {\n",
              "      background-color: #434B5C;\n",
              "      box-shadow: 0px 1px 3px 1px rgba(0, 0, 0, 0.15);\n",
              "      filter: drop-shadow(0px 1px 2px rgba(0, 0, 0, 0.3));\n",
              "      fill: #FFFFFF;\n",
              "    }\n",
              "  </style>\n",
              "\n",
              "      <script>\n",
              "        const buttonEl =\n",
              "          document.querySelector('#df-4f56def4-03a2-4fdf-b4d5-a952afde10a8 button.colab-df-convert');\n",
              "        buttonEl.style.display =\n",
              "          google.colab.kernel.accessAllowed ? 'block' : 'none';\n",
              "\n",
              "        async function convertToInteractive(key) {\n",
              "          const element = document.querySelector('#df-4f56def4-03a2-4fdf-b4d5-a952afde10a8');\n",
              "          const dataTable =\n",
              "            await google.colab.kernel.invokeFunction('convertToInteractive',\n",
              "                                                     [key], {});\n",
              "          if (!dataTable) return;\n",
              "\n",
              "          const docLinkHtml = 'Like what you see? Visit the ' +\n",
              "            '<a target=\"_blank\" href=https://colab.research.google.com/notebooks/data_table.ipynb>data table notebook</a>'\n",
              "            + ' to learn more about interactive tables.';\n",
              "          element.innerHTML = '';\n",
              "          dataTable['output_type'] = 'display_data';\n",
              "          await google.colab.output.renderOutput(dataTable, element);\n",
              "          const docLink = document.createElement('div');\n",
              "          docLink.innerHTML = docLinkHtml;\n",
              "          element.appendChild(docLink);\n",
              "        }\n",
              "      </script>\n",
              "    </div>\n",
              "  </div>\n",
              "  "
            ],
            "text/plain": [
              "                                              merged\n",
              "0  方向机 重 助力 泵 方向机 都 换 技师 说   语音   | 车主 说 新 都 换 | ...\n",
              "1  奔驰 ML500 排气 凸轮轴 调节 错误 技师 说 有没有 电脑 检测 故障 代码 | 车...\n",
              "2  2010 款 宝马 X1 2011 年 出厂 2.0 排量 通用 6L45 变速箱 原地 换...\n",
              "3  3.0 V6 发动机 号 位置 照片 最好 技师 说 右侧 排气管 上方 缸体 上 靠近 变...\n",
              "4  2012 款 奔驰 c180 维修保养 动力 值得 拥有 技师 说 家庭 用车 入手 | 技..."
            ]
          },
          "metadata": {},
          "execution_count": 81
        }
      ]
    },
    {
      "cell_type": "markdown",
      "source": [
        "## Build vocab"
      ],
      "metadata": {
        "id": "9CB2xrRX_-JG"
      }
    },
    {
      "cell_type": "code",
      "source": [
        "# 词列表\n",
        "words=[]\n",
        "for sentence in merged_df['merged']:\n",
        "    # 合并两个list\n",
        "    words+=sentence.split(' ')\n",
        "# word去重\n",
        "vocab=set(words)"
      ],
      "metadata": {
        "id": "lq_HqYWczCUp"
      },
      "execution_count": 82,
      "outputs": []
    },
    {
      "cell_type": "markdown",
      "source": [
        "## 训练Word2Vec"
      ],
      "metadata": {
        "id": "sbJA1FVuBS0e"
      }
    },
    {
      "cell_type": "code",
      "source": [
        "merged_df.head(2)"
      ],
      "metadata": {
        "colab": {
          "base_uri": "https://localhost:8080/",
          "height": 111
        },
        "id": "OKB_qbJVBYkD",
        "outputId": "380e4b9e-dc48-4ab2-8168-953eb34fb07a"
      },
      "execution_count": 83,
      "outputs": [
        {
          "output_type": "execute_result",
          "data": {
            "text/html": [
              "\n",
              "  <div id=\"df-69392768-2fcb-4e91-8a5f-be21cf52021d\">\n",
              "    <div class=\"colab-df-container\">\n",
              "      <div>\n",
              "<style scoped>\n",
              "    .dataframe tbody tr th:only-of-type {\n",
              "        vertical-align: middle;\n",
              "    }\n",
              "\n",
              "    .dataframe tbody tr th {\n",
              "        vertical-align: top;\n",
              "    }\n",
              "\n",
              "    .dataframe thead th {\n",
              "        text-align: right;\n",
              "    }\n",
              "</style>\n",
              "<table border=\"1\" class=\"dataframe\">\n",
              "  <thead>\n",
              "    <tr style=\"text-align: right;\">\n",
              "      <th></th>\n",
              "      <th>merged</th>\n",
              "    </tr>\n",
              "  </thead>\n",
              "  <tbody>\n",
              "    <tr>\n",
              "      <th>0</th>\n",
              "      <td>方向机 重 助力 泵 方向机 都 换 技师 说   语音   | 车主 说 新 都 换 | ...</td>\n",
              "    </tr>\n",
              "    <tr>\n",
              "      <th>1</th>\n",
              "      <td>奔驰 ML500 排气 凸轮轴 调节 错误 技师 说 有没有 电脑 检测 故障 代码 | 车...</td>\n",
              "    </tr>\n",
              "  </tbody>\n",
              "</table>\n",
              "</div>\n",
              "      <button class=\"colab-df-convert\" onclick=\"convertToInteractive('df-69392768-2fcb-4e91-8a5f-be21cf52021d')\"\n",
              "              title=\"Convert this dataframe to an interactive table.\"\n",
              "              style=\"display:none;\">\n",
              "        \n",
              "  <svg xmlns=\"http://www.w3.org/2000/svg\" height=\"24px\"viewBox=\"0 0 24 24\"\n",
              "       width=\"24px\">\n",
              "    <path d=\"M0 0h24v24H0V0z\" fill=\"none\"/>\n",
              "    <path d=\"M18.56 5.44l.94 2.06.94-2.06 2.06-.94-2.06-.94-.94-2.06-.94 2.06-2.06.94zm-11 1L8.5 8.5l.94-2.06 2.06-.94-2.06-.94L8.5 2.5l-.94 2.06-2.06.94zm10 10l.94 2.06.94-2.06 2.06-.94-2.06-.94-.94-2.06-.94 2.06-2.06.94z\"/><path d=\"M17.41 7.96l-1.37-1.37c-.4-.4-.92-.59-1.43-.59-.52 0-1.04.2-1.43.59L10.3 9.45l-7.72 7.72c-.78.78-.78 2.05 0 2.83L4 21.41c.39.39.9.59 1.41.59.51 0 1.02-.2 1.41-.59l7.78-7.78 2.81-2.81c.8-.78.8-2.07 0-2.86zM5.41 20L4 18.59l7.72-7.72 1.47 1.35L5.41 20z\"/>\n",
              "  </svg>\n",
              "      </button>\n",
              "      \n",
              "  <style>\n",
              "    .colab-df-container {\n",
              "      display:flex;\n",
              "      flex-wrap:wrap;\n",
              "      gap: 12px;\n",
              "    }\n",
              "\n",
              "    .colab-df-convert {\n",
              "      background-color: #E8F0FE;\n",
              "      border: none;\n",
              "      border-radius: 50%;\n",
              "      cursor: pointer;\n",
              "      display: none;\n",
              "      fill: #1967D2;\n",
              "      height: 32px;\n",
              "      padding: 0 0 0 0;\n",
              "      width: 32px;\n",
              "    }\n",
              "\n",
              "    .colab-df-convert:hover {\n",
              "      background-color: #E2EBFA;\n",
              "      box-shadow: 0px 1px 2px rgba(60, 64, 67, 0.3), 0px 1px 3px 1px rgba(60, 64, 67, 0.15);\n",
              "      fill: #174EA6;\n",
              "    }\n",
              "\n",
              "    [theme=dark] .colab-df-convert {\n",
              "      background-color: #3B4455;\n",
              "      fill: #D2E3FC;\n",
              "    }\n",
              "\n",
              "    [theme=dark] .colab-df-convert:hover {\n",
              "      background-color: #434B5C;\n",
              "      box-shadow: 0px 1px 3px 1px rgba(0, 0, 0, 0.15);\n",
              "      filter: drop-shadow(0px 1px 2px rgba(0, 0, 0, 0.3));\n",
              "      fill: #FFFFFF;\n",
              "    }\n",
              "  </style>\n",
              "\n",
              "      <script>\n",
              "        const buttonEl =\n",
              "          document.querySelector('#df-69392768-2fcb-4e91-8a5f-be21cf52021d button.colab-df-convert');\n",
              "        buttonEl.style.display =\n",
              "          google.colab.kernel.accessAllowed ? 'block' : 'none';\n",
              "\n",
              "        async function convertToInteractive(key) {\n",
              "          const element = document.querySelector('#df-69392768-2fcb-4e91-8a5f-be21cf52021d');\n",
              "          const dataTable =\n",
              "            await google.colab.kernel.invokeFunction('convertToInteractive',\n",
              "                                                     [key], {});\n",
              "          if (!dataTable) return;\n",
              "\n",
              "          const docLinkHtml = 'Like what you see? Visit the ' +\n",
              "            '<a target=\"_blank\" href=https://colab.research.google.com/notebooks/data_table.ipynb>data table notebook</a>'\n",
              "            + ' to learn more about interactive tables.';\n",
              "          element.innerHTML = '';\n",
              "          dataTable['output_type'] = 'display_data';\n",
              "          await google.colab.output.renderOutput(dataTable, element);\n",
              "          const docLink = document.createElement('div');\n",
              "          docLink.innerHTML = docLinkHtml;\n",
              "          element.appendChild(docLink);\n",
              "        }\n",
              "      </script>\n",
              "    </div>\n",
              "  </div>\n",
              "  "
            ],
            "text/plain": [
              "                                              merged\n",
              "0  方向机 重 助力 泵 方向机 都 换 技师 说   语音   | 车主 说 新 都 换 | ...\n",
              "1  奔驰 ML500 排气 凸轮轴 调节 错误 技师 说 有没有 电脑 检测 故障 代码 | 车..."
            ]
          },
          "metadata": {},
          "execution_count": 83
        }
      ]
    },
    {
      "cell_type": "code",
      "source": [
        "# 引入 word2vec\n",
        "from gensim.models.word2vec import LineSentence\n",
        "from gensim.models import word2vec\n",
        "# 引入日志配置\n",
        "#import logging\n",
        "#logging.basicConfig(format='%(asctime)s : %(levelname)s : %(message)s', level=logging.INFO)\n",
        "#刚预处理的数据\n",
        "merger_data_path = 'merged_train_test_seg_data.csv'\n",
        "model = word2vec.Word2Vec(LineSentence(merger_data_path), workers=8,min_count=5,size=200)"
      ],
      "metadata": {
        "id": "j4ohrCBmBegq"
      },
      "execution_count": 84,
      "outputs": []
    },
    {
      "cell_type": "code",
      "source": [
        "model.wv.most_similar(['奇瑞'],topn=10)"
      ],
      "metadata": {
        "colab": {
          "base_uri": "https://localhost:8080/"
        },
        "id": "in3KlTsdByZF",
        "outputId": "53141002-2c72-47c4-f567-8da356787436"
      },
      "execution_count": 85,
      "outputs": [
        {
          "output_type": "execute_result",
          "data": {
            "text/plain": [
              "[('之子', 0.8020731806755066),\n",
              " ('雷诺', 0.795222282409668),\n",
              " ('东方', 0.7912924289703369),\n",
              " ('海马', 0.7908579707145691),\n",
              " ('福美来', 0.7785687446594238),\n",
              " ('铃木', 0.7659569978713989),\n",
              " ('福田', 0.7628613710403442),\n",
              " ('三代', 0.7579848170280457),\n",
              " ('菲亚特', 0.7562822103500366),\n",
              " ('旗云', 0.7555452585220337)]"
            ]
          },
          "metadata": {},
          "execution_count": 85
        }
      ]
    },
    {
      "cell_type": "code",
      "source": [
        "save_model_path='word2vec.model'\n",
        "model.save(save_model_path)"
      ],
      "metadata": {
        "id": "arxwgsehCbz7"
      },
      "execution_count": 86,
      "outputs": []
    },
    {
      "cell_type": "markdown",
      "source": [
        "## 创建embedding_matrix"
      ],
      "metadata": {
        "id": "nJ3QyqHcClab"
      }
    },
    {
      "cell_type": "code",
      "source": [
        "vocab = {word:index for index, word in enumerate(model.wv.index2word)}\n",
        "reverse_vocab = {index: word for index, word in enumerate(model.wv.index2word)}"
      ],
      "metadata": {
        "id": "fZsa8N4-CgQj"
      },
      "execution_count": 87,
      "outputs": []
    },
    {
      "cell_type": "code",
      "source": [
        "save_embedding_matrix_path='data/embedding_matrix.txt'\n",
        "\n",
        "def get_embedding_matrix(wv_model):\n",
        "    # 获取vocab大小\n",
        "    vocab_size = len(wv_model.wv.vocab)\n",
        "    # 获取embedding维度\n",
        "    embedding_dim = wv_model.wv.vector_size\n",
        "    print('vocab_size, embedding_dim:', vocab_size, embedding_dim)\n",
        "    # 初始化矩阵\n",
        "    embedding_matrix = np.zeros((vocab_size, embedding_dim))\n",
        "    # 按顺序填充\n",
        "    for i in range(vocab_size):\n",
        "        embedding_matrix[i, :] = wv_model.wv[wv_model.wv.index2word[i]]\n",
        "        embedding_matrix = embedding_matrix.astype('float32')\n",
        "    # 断言检查维度是否符合要求\n",
        "    assert embedding_matrix.shape == (vocab_size, embedding_dim)\n",
        "    # 保存矩阵\n",
        "    np.savetxt('save_embedding_matrix_path', embedding_matrix, fmt='%0.8f')\n",
        "    print('embedding matrix extracted')\n",
        "    return embedding_matrix\n",
        "    \n",
        "embedding_matrix=get_embedding_matrix(model)\n",
        "print(embedding_matrix.shape)"
      ],
      "metadata": {
        "colab": {
          "base_uri": "https://localhost:8080/"
        },
        "id": "3oxNISkGCx3h",
        "outputId": "7b33d26d-d734-4636-84c6-d94c2fd078fd"
      },
      "execution_count": 89,
      "outputs": [
        {
          "output_type": "stream",
          "name": "stdout",
          "text": [
            "vocab_size, embedding_dim: 31933 200\n",
            "embedding matrix extracted\n",
            "(31933, 200)\n"
          ]
        }
      ]
    },
    {
      "cell_type": "markdown",
      "source": [
        "## 绘制词云"
      ],
      "metadata": {
        "id": "ei4GDnkUDior"
      }
    },
    {
      "cell_type": "code",
      "source": [
        "# 词列表\n",
        "words_list=[]\n",
        "for sentence in merged_df['merged']:\n",
        "    # 合并两个list\n",
        "    words_list+=sentence.split(' ')"
      ],
      "metadata": {
        "id": "7nyXiDx2D1_j"
      },
      "execution_count": 90,
      "outputs": []
    },
    {
      "cell_type": "code",
      "source": [
        "pd_word=pd.DataFrame(words_list)"
      ],
      "metadata": {
        "id": "zuoaVGTlD6Le"
      },
      "execution_count": 92,
      "outputs": []
    },
    {
      "cell_type": "code",
      "source": [
        "pd_word.head(2)"
      ],
      "metadata": {
        "colab": {
          "base_uri": "https://localhost:8080/",
          "height": 111
        },
        "id": "TSnvwmU0EbCs",
        "outputId": "3fc5813d-0b5d-4765-f41b-a33c58e51866"
      },
      "execution_count": 98,
      "outputs": [
        {
          "output_type": "execute_result",
          "data": {
            "text/html": [
              "\n",
              "  <div id=\"df-63901efb-c513-42e8-b31b-d6aff300dd3b\">\n",
              "    <div class=\"colab-df-container\">\n",
              "      <div>\n",
              "<style scoped>\n",
              "    .dataframe tbody tr th:only-of-type {\n",
              "        vertical-align: middle;\n",
              "    }\n",
              "\n",
              "    .dataframe tbody tr th {\n",
              "        vertical-align: top;\n",
              "    }\n",
              "\n",
              "    .dataframe thead th {\n",
              "        text-align: right;\n",
              "    }\n",
              "</style>\n",
              "<table border=\"1\" class=\"dataframe\">\n",
              "  <thead>\n",
              "    <tr style=\"text-align: right;\">\n",
              "      <th></th>\n",
              "      <th>0</th>\n",
              "    </tr>\n",
              "  </thead>\n",
              "  <tbody>\n",
              "    <tr>\n",
              "      <th>0</th>\n",
              "      <td>方向机</td>\n",
              "    </tr>\n",
              "    <tr>\n",
              "      <th>1</th>\n",
              "      <td>重</td>\n",
              "    </tr>\n",
              "  </tbody>\n",
              "</table>\n",
              "</div>\n",
              "      <button class=\"colab-df-convert\" onclick=\"convertToInteractive('df-63901efb-c513-42e8-b31b-d6aff300dd3b')\"\n",
              "              title=\"Convert this dataframe to an interactive table.\"\n",
              "              style=\"display:none;\">\n",
              "        \n",
              "  <svg xmlns=\"http://www.w3.org/2000/svg\" height=\"24px\"viewBox=\"0 0 24 24\"\n",
              "       width=\"24px\">\n",
              "    <path d=\"M0 0h24v24H0V0z\" fill=\"none\"/>\n",
              "    <path d=\"M18.56 5.44l.94 2.06.94-2.06 2.06-.94-2.06-.94-.94-2.06-.94 2.06-2.06.94zm-11 1L8.5 8.5l.94-2.06 2.06-.94-2.06-.94L8.5 2.5l-.94 2.06-2.06.94zm10 10l.94 2.06.94-2.06 2.06-.94-2.06-.94-.94-2.06-.94 2.06-2.06.94z\"/><path d=\"M17.41 7.96l-1.37-1.37c-.4-.4-.92-.59-1.43-.59-.52 0-1.04.2-1.43.59L10.3 9.45l-7.72 7.72c-.78.78-.78 2.05 0 2.83L4 21.41c.39.39.9.59 1.41.59.51 0 1.02-.2 1.41-.59l7.78-7.78 2.81-2.81c.8-.78.8-2.07 0-2.86zM5.41 20L4 18.59l7.72-7.72 1.47 1.35L5.41 20z\"/>\n",
              "  </svg>\n",
              "      </button>\n",
              "      \n",
              "  <style>\n",
              "    .colab-df-container {\n",
              "      display:flex;\n",
              "      flex-wrap:wrap;\n",
              "      gap: 12px;\n",
              "    }\n",
              "\n",
              "    .colab-df-convert {\n",
              "      background-color: #E8F0FE;\n",
              "      border: none;\n",
              "      border-radius: 50%;\n",
              "      cursor: pointer;\n",
              "      display: none;\n",
              "      fill: #1967D2;\n",
              "      height: 32px;\n",
              "      padding: 0 0 0 0;\n",
              "      width: 32px;\n",
              "    }\n",
              "\n",
              "    .colab-df-convert:hover {\n",
              "      background-color: #E2EBFA;\n",
              "      box-shadow: 0px 1px 2px rgba(60, 64, 67, 0.3), 0px 1px 3px 1px rgba(60, 64, 67, 0.15);\n",
              "      fill: #174EA6;\n",
              "    }\n",
              "\n",
              "    [theme=dark] .colab-df-convert {\n",
              "      background-color: #3B4455;\n",
              "      fill: #D2E3FC;\n",
              "    }\n",
              "\n",
              "    [theme=dark] .colab-df-convert:hover {\n",
              "      background-color: #434B5C;\n",
              "      box-shadow: 0px 1px 3px 1px rgba(0, 0, 0, 0.15);\n",
              "      filter: drop-shadow(0px 1px 2px rgba(0, 0, 0, 0.3));\n",
              "      fill: #FFFFFF;\n",
              "    }\n",
              "  </style>\n",
              "\n",
              "      <script>\n",
              "        const buttonEl =\n",
              "          document.querySelector('#df-63901efb-c513-42e8-b31b-d6aff300dd3b button.colab-df-convert');\n",
              "        buttonEl.style.display =\n",
              "          google.colab.kernel.accessAllowed ? 'block' : 'none';\n",
              "\n",
              "        async function convertToInteractive(key) {\n",
              "          const element = document.querySelector('#df-63901efb-c513-42e8-b31b-d6aff300dd3b');\n",
              "          const dataTable =\n",
              "            await google.colab.kernel.invokeFunction('convertToInteractive',\n",
              "                                                     [key], {});\n",
              "          if (!dataTable) return;\n",
              "\n",
              "          const docLinkHtml = 'Like what you see? Visit the ' +\n",
              "            '<a target=\"_blank\" href=https://colab.research.google.com/notebooks/data_table.ipynb>data table notebook</a>'\n",
              "            + ' to learn more about interactive tables.';\n",
              "          element.innerHTML = '';\n",
              "          dataTable['output_type'] = 'display_data';\n",
              "          await google.colab.output.renderOutput(dataTable, element);\n",
              "          const docLink = document.createElement('div');\n",
              "          docLink.innerHTML = docLinkHtml;\n",
              "          element.appendChild(docLink);\n",
              "        }\n",
              "      </script>\n",
              "    </div>\n",
              "  </div>\n",
              "  "
            ],
            "text/plain": [
              "     0\n",
              "0  方向机\n",
              "1    重"
            ]
          },
          "metadata": {},
          "execution_count": 98
        }
      ]
    },
    {
      "cell_type": "code",
      "source": [
        "!wget -O /usr/share/fonts/truetype/liberation/simhei.ttf \"https://www.wfonts.com/download/data/2014/06/01/simhei/chinese.simhei.ttf\""
      ],
      "metadata": {
        "colab": {
          "base_uri": "https://localhost:8080/"
        },
        "id": "MgPAenh7E8RT",
        "outputId": "16399c95-4e74-430f-c3e1-c17e5ca8c253"
      },
      "execution_count": 102,
      "outputs": [
        {
          "output_type": "stream",
          "name": "stdout",
          "text": [
            "--2022-02-08 20:43:39--  https://www.wfonts.com/download/data/2014/06/01/simhei/chinese.simhei.ttf\n",
            "Resolving www.wfonts.com (www.wfonts.com)... 104.225.219.210\n",
            "Connecting to www.wfonts.com (www.wfonts.com)|104.225.219.210|:443... connected.\n",
            "HTTP request sent, awaiting response... 200 OK\n",
            "Length: 10050870 (9.6M) [application/octetstream]\n",
            "Saving to: ‘/usr/share/fonts/truetype/liberation/simhei.ttf’\n",
            "\n",
            "/usr/share/fonts/tr 100%[===================>]   9.58M  23.1MB/s    in 0.4s    \n",
            "\n",
            "2022-02-08 20:43:39 (23.1 MB/s) - ‘/usr/share/fonts/truetype/liberation/simhei.ttf’ saved [10050870/10050870]\n",
            "\n"
          ]
        }
      ]
    },
    {
      "cell_type": "code",
      "source": [
        "import matplotlib.pyplot as plt\n",
        "import matplotlib as mpl\n",
        "zhfont ='/usr/share/fonts/truetype/liberation/simhei.ttf'\n",
        "plt.rcParams['axes.unicode_minus'] = False  # 用来正常显示负号"
      ],
      "metadata": {
        "id": "MhWN6JATE93X"
      },
      "execution_count": 112,
      "outputs": []
    },
    {
      "cell_type": "code",
      "source": [
        "from wordcloud import WordCloud\n",
        "import matplotlib.pyplot as plt\n",
        "\n",
        "# groupby word.count\n",
        "frequencies = pd_word.groupby(by = [0])[0].count()\n",
        "# ordre descendant\n",
        "frequencies = frequencies.sort_values(ascending = False)[:200]\n",
        "wordlist=list(frequencies.index)"
      ],
      "metadata": {
        "id": "_l_1OB5TDSgc"
      },
      "execution_count": 106,
      "outputs": []
    },
    {
      "cell_type": "code",
      "source": [
        "wordcloud = WordCloud(background_color=\"white\",width=1000, height=860, margin=2,font_path=zhfont).generate(str(wordlist))\n",
        "import matplotlib.pyplot as plt\n",
        "plt.imshow(wordcloud)\n",
        "plt.axis(\"off\")\n",
        "plt.show()"
      ],
      "metadata": {
        "colab": {
          "base_uri": "https://localhost:8080/",
          "height": 248
        },
        "id": "HQcxjYgFFL23",
        "outputId": "a27603b4-01d3-4053-9d83-2ec26888a679"
      },
      "execution_count": 114,
      "outputs": [
        {
          "output_type": "display_data",
          "data": {
            "image/png": "[encoded data removed]",
            "text/plain": [
              "<Figure size 432x288 with 1 Axes>"
            ]
          },
          "metadata": {
            "needs_background": "light"
          }
        }
      ]
    },
    {
      "cell_type": "code",
      "source": [
        "wordcloud.to_file('wordcloud.png')  # 把词云保存下来"
      ],
      "metadata": {
        "colab": {
          "base_uri": "https://localhost:8080/"
        },
        "id": "HDXCIYusGWuW",
        "outputId": "6c66526a-e0ee-41e3-f66f-d0cb6e0bfe49"
      },
      "execution_count": 115,
      "outputs": [
        {
          "output_type": "execute_result",
          "data": {
            "text/plain": [
              "<wordcloud.wordcloud.WordCloud at 0x7f678bcc9990>"
            ]
          },
          "metadata": {},
          "execution_count": 115
        }
      ]
    },
    {
      "cell_type": "markdown",
      "source": [
        "## Split the data"
      ],
      "metadata": {
        "id": "1IHjc3ZYHwga"
      }
    },
    {
      "cell_type": "code",
      "source": [
        "train_df['X'] = train_df[['Question', 'Dialogue']].apply(lambda x: ' '.join(x), axis=1)\n",
        "test_df['X'] = test_df[['Question', 'Dialogue']].apply(lambda x: ' '.join(x), axis=1)"
      ],
      "metadata": {
        "id": "hwWtGVt0HyYJ"
      },
      "execution_count": 116,
      "outputs": []
    },
    {
      "cell_type": "markdown",
      "source": [
        "## Padding"
      ],
      "metadata": {
        "id": "qnhv2ih4H6As"
      }
    },
    {
      "cell_type": "code",
      "source": [
        "def get_max_len(data):\n",
        "    \"\"\"\n",
        "    获得合适的最大长度值\n",
        "    :param data: 待统计的数据  train_df['Question']\n",
        "    :return: 最大长度值\n",
        "    \"\"\"\n",
        "    max_lens = data.apply(lambda x: x.count(' '))\n",
        "    return int(np.mean(max_lens) + 2 * np.std(max_lens))\n",
        "# 获取输入数据 适当的最大长度\n",
        "train_y_max_len = get_max_len(train_df['X'])\n",
        "test_y_max_len = get_max_len(test_df['X'])\n",
        "\n",
        "x_max_len = max(train_y_max_len, test_y_max_len)\n",
        "\n",
        "# 获取标签数据 适当的最大长度\n",
        "train_y_max_len = get_max_len(train_df['Report'])"
      ],
      "metadata": {
        "id": "DwOkKnOPIUcp"
      },
      "execution_count": 118,
      "outputs": []
    },
    {
      "cell_type": "code",
      "source": [
        "x_max_len"
      ],
      "metadata": {
        "colab": {
          "base_uri": "https://localhost:8080/"
        },
        "id": "zePHFVdCIXgt",
        "outputId": "cb95f515-84b5-4335-f429-7ef03ed8b68f"
      },
      "execution_count": 119,
      "outputs": [
        {
          "output_type": "execute_result",
          "data": {
            "text/plain": [
              "413"
            ]
          },
          "metadata": {},
          "execution_count": 119
        }
      ]
    },
    {
      "cell_type": "code",
      "source": [
        "train_y_max_len"
      ],
      "metadata": {
        "colab": {
          "base_uri": "https://localhost:8080/"
        },
        "id": "fj4fscjEIY_g",
        "outputId": "6307817e-42b9-4fac-e663-c13352387ec1"
      },
      "execution_count": 120,
      "outputs": [
        {
          "output_type": "execute_result",
          "data": {
            "text/plain": [
              "33"
            ]
          },
          "metadata": {},
          "execution_count": 120
        }
      ]
    },
    {
      "cell_type": "code",
      "source": [
        "def pad_proc(sentence, max_len, vocab):\n",
        "    '''\n",
        "    # 填充字段\n",
        "    < start > < end > < pad > < unk > max_lens\n",
        "    '''\n",
        "    # 0.按空格统计切分出词\n",
        "    words = sentence.strip().split(' ')\n",
        "    # 1. 截取规定长度的词数\n",
        "    words = words[:max_len]\n",
        "    # 2. 填充< unk > ,判断是否在vocab中, 不在填充 < unk >\n",
        "    sentence = [word if word in vocab else '<UNK>' for word in words]\n",
        "    # 3. 填充< start > < end >\n",
        "    sentence = ['<START>'] + sentence + ['<STOP>']\n",
        "    # 4. 判断长度，填充　< pad >\n",
        "    sentence = sentence + ['<PAD>'] * (max_len - len(words))\n",
        "    return ' '.join(sentence)\n",
        " \n",
        "   \n",
        "# 使用GenSim训练得出的vocab\n",
        "vocab = model.wv.vocab\n",
        " \n",
        "# 获取适当的最大长度\n",
        "train_x_max_len = get_max_len(train_df['X'])\n",
        "test_X_max_len = get_max_len(test_df['X'])\n",
        "X_max_len = max(train_x_max_len, test_X_max_len)\n",
        "train_df['X'] = train_df['X'].apply(lambda x: pad_proc(x, X_max_len, vocab))\n",
        " \n",
        "# 获取适当的最大长度\n",
        "test_df['X'] = test_df['X'].apply(lambda x: pad_proc(x, X_max_len, vocab))\n",
        " \n",
        "# 获取适当的最大长度\n",
        "train_y_max_len = get_max_len(train_df['Report'])\n",
        "train_df['Y'] = train_df['Report'].apply(lambda x: pad_proc(x, train_y_max_len, vocab))"
      ],
      "metadata": {
        "id": "fB6HtafvH7Tl"
      },
      "execution_count": 121,
      "outputs": []
    },
    {
      "cell_type": "code",
      "source": [
        "# 保存中间结果数据\n",
        "train_x_pad_path=\"train_x_pad\"\n",
        "train_y_pad_path=\"train_y_pad\"\n",
        "test_x_pad_path=\"test_x_pad\"\n",
        "train_df['X'].to_csv(train_x_pad_path, index=None, header=False)\n",
        "train_df['Y'].to_csv(train_y_pad_path, index=None, header=False)\n",
        "test_df['X'].to_csv(test_x_pad_path, index=None, header=False)"
      ],
      "metadata": {
        "id": "7HB6sdWvJG6B"
      },
      "execution_count": 122,
      "outputs": []
    },
    {
      "cell_type": "markdown",
      "source": [
        "## Update vocab"
      ],
      "metadata": {
        "id": "jSDyuQ7gJT4t"
      }
    },
    {
      "cell_type": "code",
      "source": [
        "print('start retrain w2v model')\n",
        "model.build_vocab(LineSentence(train_x_pad_path), update=True)\n",
        "model.train(LineSentence(train_x_pad_path), epochs=5, total_examples=model.corpus_count)\n",
        "print('1/3')\n",
        "model.build_vocab(LineSentence(train_y_pad_path), update=True)\n",
        "model.train(LineSentence(train_y_pad_path), epochs=5, total_examples=model.corpus_count)\n",
        "print('2/3')\n",
        "model.build_vocab(LineSentence(test_x_pad_path), update=True)\n",
        "model.train(LineSentence(test_x_pad_path), epochs=5, total_examples=model.corpus_count)\n",
        "#保存词向量模型\n",
        "model.save('new_word2vec_model')"
      ],
      "metadata": {
        "colab": {
          "base_uri": "https://localhost:8080/"
        },
        "id": "CxKezhhaJaW-",
        "outputId": "d9001971-f18b-412b-f107-fb5b127b05c7"
      },
      "execution_count": 123,
      "outputs": [
        {
          "output_type": "stream",
          "name": "stdout",
          "text": [
            "start retrain w2v model\n",
            "1/3\n",
            "2/3\n"
          ]
        }
      ]
    },
    {
      "cell_type": "code",
      "source": [
        "#更新vocab\n",
        "vocab = {word: index for index, word in enumerate(model.wv.index2word)}\n",
        "reverse_vocab = {index: word for index, word in enumerate(model.wv.index2word)}\n",
        "# 更新词向量矩阵\n",
        "embedding_matrix = model.wv.vectors\n",
        "embedding_matrix.shape"
      ],
      "metadata": {
        "colab": {
          "base_uri": "https://localhost:8080/"
        },
        "id": "-q9rWxcyJ5F_",
        "outputId": "925e2f21-3ad2-4d61-f41f-e0c62d62f09e"
      },
      "execution_count": 124,
      "outputs": [
        {
          "output_type": "execute_result",
          "data": {
            "text/plain": [
              "(31937, 200)"
            ]
          },
          "metadata": {},
          "execution_count": 124
        }
      ]
    },
    {
      "cell_type": "markdown",
      "source": [
        "## Transfer the word to data"
      ],
      "metadata": {
        "id": "uwbazHAlHaro"
      }
    },
    {
      "cell_type": "code",
      "source": [
        "# 遇到未知词就填充unk的索引\n",
        "unk_index = vocab['<UNK>']\n",
        "def transform_data(sentence,vocab):\n",
        "    # 字符串切分成词\n",
        "    words=sentence.split(' ')\n",
        "    # 按照vocab的index进行转换\n",
        "    ids=[vocab[word] if word in vocab else unk_index for word in words]\n",
        "    return ids"
      ],
      "metadata": {
        "id": "ADfFO9vxHc_Z"
      },
      "execution_count": 125,
      "outputs": []
    },
    {
      "cell_type": "code",
      "source": [
        "# 将词转换成索引  [<START> 方向机 重 ...] -> [32800, 403, 986, 246, 231\n",
        "train_ids_x=train_df['X'].apply(lambda x:transform_data(x,vocab))\n",
        "train_ids_y=train_df['Y'].apply(lambda x:transform_data(x,vocab))\n",
        "test_ids_x=test_df['X'].apply(lambda x:transform_data(x,vocab))\n",
        "# 将索引列表转换成矩阵 [32800, 403, 986, 246, 231] --> array([[32800,   403,   986 ]]\n",
        "train_data_X=np.array(train_ids_x.tolist())\n",
        "train_data_Y=np.array(train_ids_y.tolist())\n",
        "test_data_X=np.array(test_ids_x.tolist())"
      ],
      "metadata": {
        "id": "q0QpjAZ5KwJF"
      },
      "execution_count": 126,
      "outputs": []
    },
    {
      "cell_type": "markdown",
      "source": [
        "再次保存"
      ],
      "metadata": {
        "id": "3I4pqb8HLArF"
      }
    },
    {
      "cell_type": "code",
      "source": [
        "train_x_pad_path=\"train_x_pad\"\n",
        "train_y_pad_path=\"train_y_pad\"\n",
        "test_x_pad_path=\"test_x_pad\"\n",
        "train_df['X'].to_csv(train_x_pad_path, index=None, header=False)\n",
        "train_df['Y'].to_csv(train_y_pad_path, index=None, header=False)\n",
        "test_df['X'].to_csv(test_x_pad_path, index=None, header=False)"
      ],
      "metadata": {
        "id": "ps8kQoR6K-cL"
      },
      "execution_count": 127,
      "outputs": []
    }
  ]
}